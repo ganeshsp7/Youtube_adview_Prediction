{
 "cells": [
  {
   "cell_type": "markdown",
   "id": "a946dd55",
   "metadata": {},
   "source": [
    "<h1 align=\"center\"> Youtube adview Prediction"
   ]
  },
  {
   "cell_type": "markdown",
   "id": "f6c1b127",
   "metadata": {},
   "source": [
    "<h3>Context:</h3>\n",
    "Youtube advertisers pay content creators based on adviews and clicks for the goods and services being marketed. They want to estimate the adview based on other metrics like comments, likes etc. The problem statement is therefore to train various regression models and choose the best one to predict the number of adviews. The data needs to be refined and cleaned before feeding in the algorithms for better results."
   ]
  },
  {
   "cell_type": "markdown",
   "id": "4a0b1820",
   "metadata": {},
   "source": [
    "<h3>Objective</h3>\n",
    "To build a machine learning regression to predict youtube adview count based\n",
    "on other youtube metrics."
   ]
  },
  {
   "cell_type": "markdown",
   "id": "1f3e3f23",
   "metadata": {},
   "source": [
    "<h3>Data</h3>\n",
    "The file train.csv contains metrics and other details of about 15000 youtube videos. The metrics include number of views, likes, dislikes, comments and apart from that published date, duration and category are also included."
   ]
  },
  {
   "cell_type": "markdown",
   "id": "8fe23e88",
   "metadata": {},
   "source": [
    "<h3>Attribute Information</h3>\n",
    "'vidid' : Unique Identification ID for each video<br>\n",
    "'adview' : The number of adviews for each video<br>\n",
    "'views' : The number of unique views for each video<br>\n",
    "'likes' : The number of likes for each video<br>\n",
    "'dislikes' : The number of likes for each video<br>\n",
    "'comment' : The number of unique comments for each video<br>\n",
    "'published' : The data of uploading the video<br>\n",
    "'duration' : The duration of the video (in min. and seconds)<br>\n",
    "'category' : Category niche of each of the video<br>"
   ]
  },
  {
   "cell_type": "markdown",
   "id": "cdb0aa8d",
   "metadata": {},
   "source": [
    "#"
   ]
  },
  {
   "cell_type": "markdown",
   "id": "1633c261",
   "metadata": {},
   "source": [
    "<h1> Solution"
   ]
  },
  {
   "cell_type": "markdown",
   "id": "b57e9c49",
   "metadata": {},
   "source": [
    "<h3>Steps and Tasks"
   ]
  },
  {
   "cell_type": "markdown",
   "id": "138d24bd",
   "metadata": {},
   "source": [
    "<h3>1.Import the datasets and libraries, check shape and datatype"
   ]
  },
  {
   "cell_type": "code",
   "execution_count": 1,
   "id": "e34b820d",
   "metadata": {},
   "outputs": [],
   "source": [
    "import numpy as np\n",
    "import pandas as pd\n",
    "import matplotlib.pyplot as plt\n",
    "import seaborn as sns\n",
    "\n",
    "from sklearn.preprocessing import LabelEncoder,MinMaxScaler\n",
    "from sklearn.model_selection import train_test_split\n",
    "from sklearn.metrics import mean_absolute_error,mean_squared_error\n",
    "\n",
    "from sklearn.linear_model import LinearRegression\n",
    "from sklearn.tree import DecisionTreeRegressor\n",
    "from sklearn.svm import SVR\n",
    "from sklearn.ensemble import RandomForestRegressor"
   ]
  },
  {
   "cell_type": "code",
   "execution_count": 2,
   "id": "a8481f85",
   "metadata": {},
   "outputs": [],
   "source": [
    "data=pd.read_csv(\"train (1).csv\")"
   ]
  },
  {
   "cell_type": "code",
   "execution_count": 3,
   "id": "b5577251",
   "metadata": {},
   "outputs": [
    {
     "data": {
      "text/html": [
       "<div>\n",
       "<style scoped>\n",
       "    .dataframe tbody tr th:only-of-type {\n",
       "        vertical-align: middle;\n",
       "    }\n",
       "\n",
       "    .dataframe tbody tr th {\n",
       "        vertical-align: top;\n",
       "    }\n",
       "\n",
       "    .dataframe thead th {\n",
       "        text-align: right;\n",
       "    }\n",
       "</style>\n",
       "<table border=\"1\" class=\"dataframe\">\n",
       "  <thead>\n",
       "    <tr style=\"text-align: right;\">\n",
       "      <th></th>\n",
       "      <th>vidid</th>\n",
       "      <th>adview</th>\n",
       "      <th>views</th>\n",
       "      <th>likes</th>\n",
       "      <th>dislikes</th>\n",
       "      <th>comment</th>\n",
       "      <th>published</th>\n",
       "      <th>duration</th>\n",
       "      <th>category</th>\n",
       "    </tr>\n",
       "  </thead>\n",
       "  <tbody>\n",
       "    <tr>\n",
       "      <th>0</th>\n",
       "      <td>VID_18655</td>\n",
       "      <td>40</td>\n",
       "      <td>1031602</td>\n",
       "      <td>8523</td>\n",
       "      <td>363</td>\n",
       "      <td>1095</td>\n",
       "      <td>2016-09-14</td>\n",
       "      <td>PT7M37S</td>\n",
       "      <td>F</td>\n",
       "    </tr>\n",
       "    <tr>\n",
       "      <th>1</th>\n",
       "      <td>VID_14135</td>\n",
       "      <td>2</td>\n",
       "      <td>1707</td>\n",
       "      <td>56</td>\n",
       "      <td>2</td>\n",
       "      <td>6</td>\n",
       "      <td>2016-10-01</td>\n",
       "      <td>PT9M30S</td>\n",
       "      <td>D</td>\n",
       "    </tr>\n",
       "    <tr>\n",
       "      <th>2</th>\n",
       "      <td>VID_2187</td>\n",
       "      <td>1</td>\n",
       "      <td>2023</td>\n",
       "      <td>25</td>\n",
       "      <td>0</td>\n",
       "      <td>2</td>\n",
       "      <td>2016-07-02</td>\n",
       "      <td>PT2M16S</td>\n",
       "      <td>C</td>\n",
       "    </tr>\n",
       "    <tr>\n",
       "      <th>3</th>\n",
       "      <td>VID_23096</td>\n",
       "      <td>6</td>\n",
       "      <td>620860</td>\n",
       "      <td>777</td>\n",
       "      <td>161</td>\n",
       "      <td>153</td>\n",
       "      <td>2016-07-27</td>\n",
       "      <td>PT4M22S</td>\n",
       "      <td>H</td>\n",
       "    </tr>\n",
       "    <tr>\n",
       "      <th>4</th>\n",
       "      <td>VID_10175</td>\n",
       "      <td>1</td>\n",
       "      <td>666</td>\n",
       "      <td>1</td>\n",
       "      <td>0</td>\n",
       "      <td>0</td>\n",
       "      <td>2016-06-29</td>\n",
       "      <td>PT31S</td>\n",
       "      <td>D</td>\n",
       "    </tr>\n",
       "  </tbody>\n",
       "</table>\n",
       "</div>"
      ],
      "text/plain": [
       "       vidid  adview    views likes dislikes comment   published duration  \\\n",
       "0  VID_18655      40  1031602  8523      363    1095  2016-09-14  PT7M37S   \n",
       "1  VID_14135       2     1707    56        2       6  2016-10-01  PT9M30S   \n",
       "2   VID_2187       1     2023    25        0       2  2016-07-02  PT2M16S   \n",
       "3  VID_23096       6   620860   777      161     153  2016-07-27  PT4M22S   \n",
       "4  VID_10175       1      666     1        0       0  2016-06-29    PT31S   \n",
       "\n",
       "  category  \n",
       "0        F  \n",
       "1        D  \n",
       "2        C  \n",
       "3        H  \n",
       "4        D  "
      ]
     },
     "execution_count": 3,
     "metadata": {},
     "output_type": "execute_result"
    }
   ],
   "source": [
    "data.head()"
   ]
  },
  {
   "cell_type": "code",
   "execution_count": 4,
   "id": "746479dd",
   "metadata": {},
   "outputs": [
    {
     "data": {
      "text/plain": [
       "(14999, 9)"
      ]
     },
     "execution_count": 4,
     "metadata": {},
     "output_type": "execute_result"
    }
   ],
   "source": [
    "data.shape"
   ]
  },
  {
   "cell_type": "code",
   "execution_count": 5,
   "id": "f6715443",
   "metadata": {},
   "outputs": [
    {
     "name": "stdout",
     "output_type": "stream",
     "text": [
      "<class 'pandas.core.frame.DataFrame'>\n",
      "RangeIndex: 14999 entries, 0 to 14998\n",
      "Data columns (total 9 columns):\n",
      " #   Column     Non-Null Count  Dtype \n",
      "---  ------     --------------  ----- \n",
      " 0   vidid      14999 non-null  object\n",
      " 1   adview     14999 non-null  int64 \n",
      " 2   views      14999 non-null  object\n",
      " 3   likes      14999 non-null  object\n",
      " 4   dislikes   14999 non-null  object\n",
      " 5   comment    14999 non-null  object\n",
      " 6   published  14999 non-null  object\n",
      " 7   duration   14999 non-null  object\n",
      " 8   category   14999 non-null  object\n",
      "dtypes: int64(1), object(8)\n",
      "memory usage: 1.0+ MB\n"
     ]
    }
   ],
   "source": [
    "data.info()"
   ]
  },
  {
   "cell_type": "markdown",
   "id": "8e4e9a5a",
   "metadata": {},
   "source": [
    "<h3>Clean the dataset by removing missing values and other things.\n"
   ]
  },
  {
   "cell_type": "code",
   "execution_count": 6,
   "id": "b11da16e",
   "metadata": {},
   "outputs": [
    {
     "data": {
      "text/plain": [
       "vidid        0\n",
       "adview       0\n",
       "views        0\n",
       "likes        0\n",
       "dislikes     0\n",
       "comment      0\n",
       "published    0\n",
       "duration     0\n",
       "category     0\n",
       "dtype: int64"
      ]
     },
     "execution_count": 6,
     "metadata": {},
     "output_type": "execute_result"
    }
   ],
   "source": [
    "data.isnull().sum()"
   ]
  },
  {
   "cell_type": "code",
   "execution_count": 7,
   "id": "d06db0bc",
   "metadata": {},
   "outputs": [
    {
     "data": {
      "text/html": [
       "<div>\n",
       "<style scoped>\n",
       "    .dataframe tbody tr th:only-of-type {\n",
       "        vertical-align: middle;\n",
       "    }\n",
       "\n",
       "    .dataframe tbody tr th {\n",
       "        vertical-align: top;\n",
       "    }\n",
       "\n",
       "    .dataframe thead th {\n",
       "        text-align: right;\n",
       "    }\n",
       "</style>\n",
       "<table border=\"1\" class=\"dataframe\">\n",
       "  <thead>\n",
       "    <tr style=\"text-align: right;\">\n",
       "      <th></th>\n",
       "      <th>vidid</th>\n",
       "      <th>adview</th>\n",
       "      <th>views</th>\n",
       "      <th>likes</th>\n",
       "      <th>dislikes</th>\n",
       "      <th>comment</th>\n",
       "      <th>published</th>\n",
       "      <th>duration</th>\n",
       "      <th>category</th>\n",
       "    </tr>\n",
       "  </thead>\n",
       "  <tbody>\n",
       "    <tr>\n",
       "      <th>0</th>\n",
       "      <td>VID_18655</td>\n",
       "      <td>40</td>\n",
       "      <td>1031602</td>\n",
       "      <td>8523</td>\n",
       "      <td>363</td>\n",
       "      <td>1095</td>\n",
       "      <td>2016-09-14</td>\n",
       "      <td>PT7M37S</td>\n",
       "      <td>6</td>\n",
       "    </tr>\n",
       "    <tr>\n",
       "      <th>1</th>\n",
       "      <td>VID_14135</td>\n",
       "      <td>2</td>\n",
       "      <td>1707</td>\n",
       "      <td>56</td>\n",
       "      <td>2</td>\n",
       "      <td>6</td>\n",
       "      <td>2016-10-01</td>\n",
       "      <td>PT9M30S</td>\n",
       "      <td>4</td>\n",
       "    </tr>\n",
       "    <tr>\n",
       "      <th>2</th>\n",
       "      <td>VID_2187</td>\n",
       "      <td>1</td>\n",
       "      <td>2023</td>\n",
       "      <td>25</td>\n",
       "      <td>0</td>\n",
       "      <td>2</td>\n",
       "      <td>2016-07-02</td>\n",
       "      <td>PT2M16S</td>\n",
       "      <td>3</td>\n",
       "    </tr>\n",
       "    <tr>\n",
       "      <th>3</th>\n",
       "      <td>VID_23096</td>\n",
       "      <td>6</td>\n",
       "      <td>620860</td>\n",
       "      <td>777</td>\n",
       "      <td>161</td>\n",
       "      <td>153</td>\n",
       "      <td>2016-07-27</td>\n",
       "      <td>PT4M22S</td>\n",
       "      <td>8</td>\n",
       "    </tr>\n",
       "    <tr>\n",
       "      <th>4</th>\n",
       "      <td>VID_10175</td>\n",
       "      <td>1</td>\n",
       "      <td>666</td>\n",
       "      <td>1</td>\n",
       "      <td>0</td>\n",
       "      <td>0</td>\n",
       "      <td>2016-06-29</td>\n",
       "      <td>PT31S</td>\n",
       "      <td>4</td>\n",
       "    </tr>\n",
       "  </tbody>\n",
       "</table>\n",
       "</div>"
      ],
      "text/plain": [
       "       vidid  adview    views likes dislikes comment   published duration  \\\n",
       "0  VID_18655      40  1031602  8523      363    1095  2016-09-14  PT7M37S   \n",
       "1  VID_14135       2     1707    56        2       6  2016-10-01  PT9M30S   \n",
       "2   VID_2187       1     2023    25        0       2  2016-07-02  PT2M16S   \n",
       "3  VID_23096       6   620860   777      161     153  2016-07-27  PT4M22S   \n",
       "4  VID_10175       1      666     1        0       0  2016-06-29    PT31S   \n",
       "\n",
       "   category  \n",
       "0         6  \n",
       "1         4  \n",
       "2         3  \n",
       "3         8  \n",
       "4         4  "
      ]
     },
     "execution_count": 7,
     "metadata": {},
     "output_type": "execute_result"
    }
   ],
   "source": [
    "# Assigning each category a number for Category feature\n",
    "category={'A': 1,'B':2,'C':3,'D':4,'E':5,'F':6,'G':7,'H':8}\n",
    "data[\"category\"]=data[\"category\"].map(category)\n",
    "data.head()"
   ]
  },
  {
   "cell_type": "code",
   "execution_count": 8,
   "id": "a8a4a12f",
   "metadata": {},
   "outputs": [],
   "source": [
    "# Removing character \"F\" present in data\n",
    "data=data[data.views!='F']\n",
    "data=data[data.likes!='F']\n",
    "data=data[data.dislikes!='F']\n",
    "data=data[data.comment!='F']\n"
   ]
  },
  {
   "cell_type": "code",
   "execution_count": 9,
   "id": "8f45cb45",
   "metadata": {},
   "outputs": [
    {
     "data": {
      "text/html": [
       "<div>\n",
       "<style scoped>\n",
       "    .dataframe tbody tr th:only-of-type {\n",
       "        vertical-align: middle;\n",
       "    }\n",
       "\n",
       "    .dataframe tbody tr th {\n",
       "        vertical-align: top;\n",
       "    }\n",
       "\n",
       "    .dataframe thead th {\n",
       "        text-align: right;\n",
       "    }\n",
       "</style>\n",
       "<table border=\"1\" class=\"dataframe\">\n",
       "  <thead>\n",
       "    <tr style=\"text-align: right;\">\n",
       "      <th></th>\n",
       "      <th>vidid</th>\n",
       "      <th>adview</th>\n",
       "      <th>views</th>\n",
       "      <th>likes</th>\n",
       "      <th>dislikes</th>\n",
       "      <th>comment</th>\n",
       "      <th>published</th>\n",
       "      <th>duration</th>\n",
       "      <th>category</th>\n",
       "    </tr>\n",
       "  </thead>\n",
       "  <tbody>\n",
       "    <tr>\n",
       "      <th>0</th>\n",
       "      <td>VID_18655</td>\n",
       "      <td>40</td>\n",
       "      <td>1031602</td>\n",
       "      <td>8523</td>\n",
       "      <td>363</td>\n",
       "      <td>1095</td>\n",
       "      <td>2016-09-14</td>\n",
       "      <td>PT7M37S</td>\n",
       "      <td>6</td>\n",
       "    </tr>\n",
       "    <tr>\n",
       "      <th>1</th>\n",
       "      <td>VID_14135</td>\n",
       "      <td>2</td>\n",
       "      <td>1707</td>\n",
       "      <td>56</td>\n",
       "      <td>2</td>\n",
       "      <td>6</td>\n",
       "      <td>2016-10-01</td>\n",
       "      <td>PT9M30S</td>\n",
       "      <td>4</td>\n",
       "    </tr>\n",
       "    <tr>\n",
       "      <th>2</th>\n",
       "      <td>VID_2187</td>\n",
       "      <td>1</td>\n",
       "      <td>2023</td>\n",
       "      <td>25</td>\n",
       "      <td>0</td>\n",
       "      <td>2</td>\n",
       "      <td>2016-07-02</td>\n",
       "      <td>PT2M16S</td>\n",
       "      <td>3</td>\n",
       "    </tr>\n",
       "    <tr>\n",
       "      <th>3</th>\n",
       "      <td>VID_23096</td>\n",
       "      <td>6</td>\n",
       "      <td>620860</td>\n",
       "      <td>777</td>\n",
       "      <td>161</td>\n",
       "      <td>153</td>\n",
       "      <td>2016-07-27</td>\n",
       "      <td>PT4M22S</td>\n",
       "      <td>8</td>\n",
       "    </tr>\n",
       "    <tr>\n",
       "      <th>4</th>\n",
       "      <td>VID_10175</td>\n",
       "      <td>1</td>\n",
       "      <td>666</td>\n",
       "      <td>1</td>\n",
       "      <td>0</td>\n",
       "      <td>0</td>\n",
       "      <td>2016-06-29</td>\n",
       "      <td>PT31S</td>\n",
       "      <td>4</td>\n",
       "    </tr>\n",
       "  </tbody>\n",
       "</table>\n",
       "</div>"
      ],
      "text/plain": [
       "       vidid  adview    views likes dislikes comment   published duration  \\\n",
       "0  VID_18655      40  1031602  8523      363    1095  2016-09-14  PT7M37S   \n",
       "1  VID_14135       2     1707    56        2       6  2016-10-01  PT9M30S   \n",
       "2   VID_2187       1     2023    25        0       2  2016-07-02  PT2M16S   \n",
       "3  VID_23096       6   620860   777      161     153  2016-07-27  PT4M22S   \n",
       "4  VID_10175       1      666     1        0       0  2016-06-29    PT31S   \n",
       "\n",
       "   category  \n",
       "0         6  \n",
       "1         4  \n",
       "2         3  \n",
       "3         8  \n",
       "4         4  "
      ]
     },
     "execution_count": 9,
     "metadata": {},
     "output_type": "execute_result"
    }
   ],
   "source": [
    "data.head()"
   ]
  },
  {
   "cell_type": "markdown",
   "id": "53f6f638",
   "metadata": {},
   "source": [
    "<h3>Transform attributes into numerical values and other necessary transformations"
   ]
  },
  {
   "cell_type": "code",
   "execution_count": 10,
   "id": "023bb48b",
   "metadata": {},
   "outputs": [],
   "source": [
    "# Convert values to integers for views, likes, comments, dislikes and adview\n",
    "data[\"views\"] = pd.to_numeric(data[\"views\"])\n",
    "data[\"comment\"] = pd.to_numeric(data[\"comment\"])\n",
    "data[\"likes\"] = pd.to_numeric(data[\"likes\"])\n",
    "data[\"dislikes\"] = pd.to_numeric(data[\"dislikes\"])"
   ]
  },
  {
   "cell_type": "code",
   "execution_count": 11,
   "id": "cd5e8a36",
   "metadata": {},
   "outputs": [],
   "source": [
    "column_vidid=data['vidid']"
   ]
  },
  {
   "cell_type": "code",
   "execution_count": 12,
   "id": "03927727",
   "metadata": {},
   "outputs": [],
   "source": [
    "# Endoding features like Category, Duration, Vidid\n",
    "lbl=LabelEncoder()\n",
    "data['duration']=lbl.fit_transform(data['duration'])\n",
    "data['vidid']=lbl.fit_transform(data['vidid'])\n",
    "data['published']=lbl.fit_transform(data['published'])"
   ]
  },
  {
   "cell_type": "code",
   "execution_count": 13,
   "id": "add5f37f",
   "metadata": {},
   "outputs": [
    {
     "data": {
      "text/html": [
       "<div>\n",
       "<style scoped>\n",
       "    .dataframe tbody tr th:only-of-type {\n",
       "        vertical-align: middle;\n",
       "    }\n",
       "\n",
       "    .dataframe tbody tr th {\n",
       "        vertical-align: top;\n",
       "    }\n",
       "\n",
       "    .dataframe thead th {\n",
       "        text-align: right;\n",
       "    }\n",
       "</style>\n",
       "<table border=\"1\" class=\"dataframe\">\n",
       "  <thead>\n",
       "    <tr style=\"text-align: right;\">\n",
       "      <th></th>\n",
       "      <th>vidid</th>\n",
       "      <th>adview</th>\n",
       "      <th>views</th>\n",
       "      <th>likes</th>\n",
       "      <th>dislikes</th>\n",
       "      <th>comment</th>\n",
       "      <th>published</th>\n",
       "      <th>duration</th>\n",
       "      <th>category</th>\n",
       "    </tr>\n",
       "  </thead>\n",
       "  <tbody>\n",
       "    <tr>\n",
       "      <th>0</th>\n",
       "      <td>5912</td>\n",
       "      <td>40</td>\n",
       "      <td>1031602</td>\n",
       "      <td>8523</td>\n",
       "      <td>363</td>\n",
       "      <td>1095</td>\n",
       "      <td>2168</td>\n",
       "      <td>2925</td>\n",
       "      <td>6</td>\n",
       "    </tr>\n",
       "    <tr>\n",
       "      <th>1</th>\n",
       "      <td>2741</td>\n",
       "      <td>2</td>\n",
       "      <td>1707</td>\n",
       "      <td>56</td>\n",
       "      <td>2</td>\n",
       "      <td>6</td>\n",
       "      <td>2185</td>\n",
       "      <td>3040</td>\n",
       "      <td>4</td>\n",
       "    </tr>\n",
       "    <tr>\n",
       "      <th>2</th>\n",
       "      <td>8138</td>\n",
       "      <td>1</td>\n",
       "      <td>2023</td>\n",
       "      <td>25</td>\n",
       "      <td>0</td>\n",
       "      <td>2</td>\n",
       "      <td>2094</td>\n",
       "      <td>1863</td>\n",
       "      <td>3</td>\n",
       "    </tr>\n",
       "    <tr>\n",
       "      <th>3</th>\n",
       "      <td>9005</td>\n",
       "      <td>6</td>\n",
       "      <td>620860</td>\n",
       "      <td>777</td>\n",
       "      <td>161</td>\n",
       "      <td>153</td>\n",
       "      <td>2119</td>\n",
       "      <td>2546</td>\n",
       "      <td>8</td>\n",
       "    </tr>\n",
       "    <tr>\n",
       "      <th>4</th>\n",
       "      <td>122</td>\n",
       "      <td>1</td>\n",
       "      <td>666</td>\n",
       "      <td>1</td>\n",
       "      <td>0</td>\n",
       "      <td>0</td>\n",
       "      <td>2091</td>\n",
       "      <td>1963</td>\n",
       "      <td>4</td>\n",
       "    </tr>\n",
       "  </tbody>\n",
       "</table>\n",
       "</div>"
      ],
      "text/plain": [
       "   vidid  adview    views  likes  dislikes  comment  published  duration  \\\n",
       "0   5912      40  1031602   8523       363     1095       2168      2925   \n",
       "1   2741       2     1707     56         2        6       2185      3040   \n",
       "2   8138       1     2023     25         0        2       2094      1863   \n",
       "3   9005       6   620860    777       161      153       2119      2546   \n",
       "4    122       1      666      1         0        0       2091      1963   \n",
       "\n",
       "   category  \n",
       "0         6  \n",
       "1         4  \n",
       "2         3  \n",
       "3         8  \n",
       "4         4  "
      ]
     },
     "execution_count": 13,
     "metadata": {},
     "output_type": "execute_result"
    }
   ],
   "source": [
    "data.head()"
   ]
  },
  {
   "cell_type": "code",
   "execution_count": 14,
   "id": "cfa6b0cd",
   "metadata": {
    "scrolled": true
   },
   "outputs": [
    {
     "data": {
      "text/html": [
       "<div>\n",
       "<style scoped>\n",
       "    .dataframe tbody tr th:only-of-type {\n",
       "        vertical-align: middle;\n",
       "    }\n",
       "\n",
       "    .dataframe tbody tr th {\n",
       "        vertical-align: top;\n",
       "    }\n",
       "\n",
       "    .dataframe thead th {\n",
       "        text-align: right;\n",
       "    }\n",
       "</style>\n",
       "<table border=\"1\" class=\"dataframe\">\n",
       "  <thead>\n",
       "    <tr style=\"text-align: right;\">\n",
       "      <th></th>\n",
       "      <th>vidid</th>\n",
       "      <th>adview</th>\n",
       "      <th>views</th>\n",
       "      <th>likes</th>\n",
       "      <th>dislikes</th>\n",
       "      <th>comment</th>\n",
       "      <th>published</th>\n",
       "      <th>duration</th>\n",
       "      <th>category</th>\n",
       "    </tr>\n",
       "  </thead>\n",
       "  <tbody>\n",
       "    <tr>\n",
       "      <th>0</th>\n",
       "      <td>5912</td>\n",
       "      <td>40</td>\n",
       "      <td>1031602</td>\n",
       "      <td>8523</td>\n",
       "      <td>363</td>\n",
       "      <td>1095</td>\n",
       "      <td>2168</td>\n",
       "      <td>457</td>\n",
       "      <td>6</td>\n",
       "    </tr>\n",
       "    <tr>\n",
       "      <th>1</th>\n",
       "      <td>2741</td>\n",
       "      <td>2</td>\n",
       "      <td>1707</td>\n",
       "      <td>56</td>\n",
       "      <td>2</td>\n",
       "      <td>6</td>\n",
       "      <td>2185</td>\n",
       "      <td>570</td>\n",
       "      <td>4</td>\n",
       "    </tr>\n",
       "    <tr>\n",
       "      <th>2</th>\n",
       "      <td>8138</td>\n",
       "      <td>1</td>\n",
       "      <td>2023</td>\n",
       "      <td>25</td>\n",
       "      <td>0</td>\n",
       "      <td>2</td>\n",
       "      <td>2094</td>\n",
       "      <td>136</td>\n",
       "      <td>3</td>\n",
       "    </tr>\n",
       "    <tr>\n",
       "      <th>3</th>\n",
       "      <td>9005</td>\n",
       "      <td>6</td>\n",
       "      <td>620860</td>\n",
       "      <td>777</td>\n",
       "      <td>161</td>\n",
       "      <td>153</td>\n",
       "      <td>2119</td>\n",
       "      <td>262</td>\n",
       "      <td>8</td>\n",
       "    </tr>\n",
       "    <tr>\n",
       "      <th>4</th>\n",
       "      <td>122</td>\n",
       "      <td>1</td>\n",
       "      <td>666</td>\n",
       "      <td>1</td>\n",
       "      <td>0</td>\n",
       "      <td>0</td>\n",
       "      <td>2091</td>\n",
       "      <td>31</td>\n",
       "      <td>4</td>\n",
       "    </tr>\n",
       "  </tbody>\n",
       "</table>\n",
       "</div>"
      ],
      "text/plain": [
       "   vidid  adview    views  likes  dislikes  comment  published  duration  \\\n",
       "0   5912      40  1031602   8523       363     1095       2168       457   \n",
       "1   2741       2     1707     56         2        6       2185       570   \n",
       "2   8138       1     2023     25         0        2       2094       136   \n",
       "3   9005       6   620860    777       161      153       2119       262   \n",
       "4    122       1      666      1         0        0       2091        31   \n",
       "\n",
       "   category  \n",
       "0         6  \n",
       "1         4  \n",
       "2         3  \n",
       "3         8  \n",
       "4         4  "
      ]
     },
     "execution_count": 14,
     "metadata": {},
     "output_type": "execute_result"
    }
   ],
   "source": [
    "# Convert Time_in_sec for duration\n",
    "import datetime\n",
    "import time\n",
    "def checki(x):\n",
    "    y = x[2:]\n",
    "    h = ''\n",
    "    m = ''\n",
    "    s = ''\n",
    "    mm = ''\n",
    "    P = ['H','M','S']\n",
    "    for i in y:\n",
    "        if i not in P:\n",
    "            mm+=i\n",
    "        else:\n",
    "            if(i==\"H\"):\n",
    "                h = mm\n",
    "                mm = ''\n",
    "            elif(i == \"M\"):\n",
    "                m = mm\n",
    "                mm = ''\n",
    "            else:\n",
    "                s = mm\n",
    "                mm = ''\n",
    "    if(h==''):\n",
    "        h = '00'\n",
    "    if(m == ''):\n",
    "        m = '00'\n",
    "    if(s==''):\n",
    "        s='00'\n",
    "    bp = h+':'+m+':'+s\n",
    "    return bp\n",
    "\n",
    "mp = pd.read_csv(\"train (1).csv\")[\"duration\"]\n",
    "time = mp.apply(checki)\n",
    "\n",
    "def func_sec(time_string):\n",
    "    h, m, s = time_string.split(':')\n",
    "    return int(h) * 3600 + int(m) * 60 + int(s)\n",
    "\n",
    "time1=time.apply(func_sec)\n",
    "data[\"duration\"]=time1\n",
    "data.head()"
   ]
  },
  {
   "cell_type": "markdown",
   "id": "03e04126",
   "metadata": {},
   "source": [
    "<h3>Visualise the dataset using plotting using heatmaps and plots.<br>\n",
    "Study data distributions for each attribute as well.</h3>"
   ]
  },
  {
   "cell_type": "code",
   "execution_count": 15,
   "id": "31bb390c",
   "metadata": {
    "scrolled": true
   },
   "outputs": [
    {
     "data": {
      "image/png": "[encoded data removed]",
      "text/plain": [
       "<Figure size 1000x300 with 2 Axes>"
      ]
     },
     "metadata": {},
     "output_type": "display_data"
    }
   ],
   "source": [
    "plt.figure(figsize=(10,3))\n",
    "plt.subplot(1,2,1)\n",
    "plt.hist(data[\"category\"])\n",
    "plt.title(\"Category Distribution\")\n",
    "plt.xlabel(\"Category\")\n",
    "plt.ylabel(\"Frequency\")\n",
    "\n",
    "plt.subplot(1,2,2)\n",
    "plt.plot(data[\"adview\"])\n",
    "plt.title(\"Ad Views\")\n",
    "plt.xlabel(\"videos\")\n",
    "plt.ylabel(\"views (in Millions)\")\n",
    "plt.show()"
   ]
  },
  {
   "cell_type": "markdown",
   "id": "022579b9",
   "metadata": {},
   "source": [
    "we can see that in graph 2 of Adviews, All values are below 2 Millions but there is an outlier.  \n",
    "so we have to remove that outlier."
   ]
  },
  {
   "cell_type": "code",
   "execution_count": 16,
   "id": "810b718e",
   "metadata": {},
   "outputs": [],
   "source": [
    "# Remove videos with adview greater than 2000000 as outlier\n",
    "data= data[data[\"adview\"] <2000000]"
   ]
  },
  {
   "cell_type": "code",
   "execution_count": 17,
   "id": "574c8855",
   "metadata": {},
   "outputs": [
    {
     "data": {
      "image/png": "[encoded data removed]",
      "text/plain": [
       "<Figure size 640x480 with 1 Axes>"
      ]
     },
     "metadata": {},
     "output_type": "display_data"
    }
   ],
   "source": [
    "plt.plot(data[\"adview\"])\n",
    "plt.title(\"Ad Views\")\n",
    "plt.xlabel(\"videos\")\n",
    "plt.ylabel(\"views (in Millions)\")\n",
    "plt.show()"
   ]
  },
  {
   "cell_type": "markdown",
   "id": "c9bfa34b",
   "metadata": {},
   "source": [
    "<h5>heatmap</h5>"
   ]
  },
  {
   "cell_type": "code",
   "execution_count": 18,
   "id": "17e036d7",
   "metadata": {},
   "outputs": [
    {
     "data": {
      "image/png": "[encoded data removed]",
      "text/plain": [
       "<Figure size 1200x800 with 2 Axes>"
      ]
     },
     "metadata": {},
     "output_type": "display_data"
    }
   ],
   "source": [
    "plt.figure(figsize=(12,8))\n",
    "corr = data.corr()\n",
    "sns.heatmap(corr, cmap='coolwarm', annot=True, fmt=\".3f\")\n",
    "plt.show()"
   ]
  },
  {
   "cell_type": "markdown",
   "id": "87160df2",
   "metadata": {},
   "source": [
    "# "
   ]
  },
  {
   "cell_type": "markdown",
   "id": "ccffc22f",
   "metadata": {},
   "source": [
    "<h3>split the data into training, validation and test set in the appropriate ratio."
   ]
  },
  {
   "cell_type": "code",
   "execution_count": 19,
   "id": "4aa7fc28",
   "metadata": {},
   "outputs": [],
   "source": [
    "y=data[\"adview\"]\n",
    "x=data.drop([\"adview\",\"vidid\"],axis=1)"
   ]
  },
  {
   "cell_type": "code",
   "execution_count": 20,
   "id": "e787f313",
   "metadata": {},
   "outputs": [],
   "source": [
    "x_train,x_test,y_train,y_test=train_test_split(x,y,test_size=0.2,random_state=23)"
   ]
  },
  {
   "cell_type": "code",
   "execution_count": 21,
   "id": "32f93ecb",
   "metadata": {},
   "outputs": [
    {
     "data": {
      "text/plain": [
       "((11708, 7), (11708,), (2928, 7), (2928,))"
      ]
     },
     "execution_count": 21,
     "metadata": {},
     "output_type": "execute_result"
    }
   ],
   "source": [
    "x_train.shape,y_train.shape,x_test.shape,y_test.shape"
   ]
  },
  {
   "cell_type": "markdown",
   "id": "b4725fcf",
   "metadata": {},
   "source": [
    "<h3>Normalise the data"
   ]
  },
  {
   "cell_type": "code",
   "execution_count": 22,
   "id": "8947f880",
   "metadata": {},
   "outputs": [],
   "source": [
    "scalar=MinMaxScaler()\n",
    "x_train=scalar.fit_transform(x_train)\n",
    "x_test=scalar.transform(x_test)"
   ]
  },
  {
   "cell_type": "markdown",
   "id": "a0782e8e",
   "metadata": {},
   "source": [
    "<h3> Evaluation function"
   ]
  },
  {
   "cell_type": "code",
   "execution_count": 23,
   "id": "cfe7daaa",
   "metadata": {},
   "outputs": [],
   "source": [
    "def evaluation_function(x_test,y_test,model_name):\n",
    "    predict=model_name.predict(x_test)\n",
    "    print(\"Mean Absolute Error\",mean_absolute_error(y_test,predict))\n",
    "    print(\"Mean Squared Error\",mean_squared_error(y_test,predict))\n",
    "    print(\"Root Mean Squared Error\",np.sqrt(mean_squared_error(y_test,predict)))"
   ]
  },
  {
   "cell_type": "code",
   "execution_count": 24,
   "id": "8f4f9a74",
   "metadata": {},
   "outputs": [
    {
     "name": "stdout",
     "output_type": "stream",
     "text": [
      "Mean Absolute Error 3720.955125498298\n",
      "Mean Squared Error 1117400271.0207088\n",
      "Root Mean Squared Error 33427.537615276255\n"
     ]
    }
   ],
   "source": [
    "# Linear Regression\n",
    "lr=LinearRegression()\n",
    "lr_model=lr.fit(x_train,y_train)\n",
    "evaluation_function(x_test,y_test,lr_model)"
   ]
  },
  {
   "cell_type": "code",
   "execution_count": 25,
   "id": "8b392cf3",
   "metadata": {},
   "outputs": [
    {
     "name": "stdout",
     "output_type": "stream",
     "text": [
      "Mean Absolute Error 2675.300887978142\n",
      "Mean Squared Error 1152537130.575478\n",
      "Root Mean Squared Error 33949.037255502226\n"
     ]
    }
   ],
   "source": [
    "# Decision Tree\n",
    "dt=DecisionTreeRegressor()\n",
    "dt_model=dt.fit(x_train,y_train)\n",
    "evaluation_function(x_test,y_test,dt_model)"
   ]
  },
  {
   "cell_type": "code",
   "execution_count": 26,
   "id": "056b4d46",
   "metadata": {},
   "outputs": [
    {
     "name": "stdout",
     "output_type": "stream",
     "text": [
      "Mean Absolute Error 2745.0820660035342\n",
      "Mean Squared Error 1083081779.0165303\n",
      "Root Mean Squared Error 32910.20782396444\n"
     ]
    }
   ],
   "source": [
    "# random forest\n",
    "rf=RandomForestRegressor(n_estimators=200,max_depth=25,min_samples_split=15,min_samples_leaf=2)\n",
    "rf_model=rf.fit(x_train,y_train)\n",
    "evaluation_function(x_test,y_test,rf_model)"
   ]
  },
  {
   "cell_type": "code",
   "execution_count": 27,
   "id": "3f1287e0",
   "metadata": {},
   "outputs": [
    {
     "name": "stdout",
     "output_type": "stream",
     "text": [
      "Mean Absolute Error 1944.2683305341823\n",
      "Mean Squared Error 1123973925.9054968\n",
      "Root Mean Squared Error 33525.720363707274\n"
     ]
    }
   ],
   "source": [
    "# SVR\n",
    "svr=SVR()\n",
    "svr_model=svr.fit(x_train,y_train)\n",
    "evaluation_function(x_test,y_test,svr_model)"
   ]
  },
  {
   "cell_type": "markdown",
   "id": "21eb0f1b",
   "metadata": {},
   "source": [
    "<h3>Deep Learning"
   ]
  },
  {
   "cell_type": "code",
   "execution_count": 28,
   "id": "b781cef0",
   "metadata": {},
   "outputs": [],
   "source": [
    "import tensorflow\n",
    "from tensorflow.keras.layers import Dense\n",
    "from tensorflow.keras.models import Sequential"
   ]
  },
  {
   "cell_type": "code",
   "execution_count": 29,
   "id": "95f3baf2",
   "metadata": {},
   "outputs": [],
   "source": [
    "ann_model=Sequential([\n",
    "    Dense(10,activation=\"relu\",input_shape=x_train.shape[1:]),\n",
    "    Dense(8,activation=\"relu\"),\n",
    "    Dense(4,activation=\"relu\"),\n",
    "    Dense(1)    \n",
    "])"
   ]
  },
  {
   "cell_type": "code",
   "execution_count": 30,
   "id": "9874dd2e",
   "metadata": {},
   "outputs": [
    {
     "name": "stdout",
     "output_type": "stream",
     "text": [
      "Model: \"sequential\"\n",
      "_________________________________________________________________\n",
      " Layer (type)                Output Shape              Param #   \n",
      "=================================================================\n",
      " dense (Dense)               (None, 10)                80        \n",
      "                                                                 \n",
      " dense_1 (Dense)             (None, 8)                 88        \n",
      "                                                                 \n",
      " dense_2 (Dense)             (None, 4)                 36        \n",
      "                                                                 \n",
      " dense_3 (Dense)             (None, 1)                 5         \n",
      "                                                                 \n",
      "=================================================================\n",
      "Total params: 209\n",
      "Trainable params: 209\n",
      "Non-trainable params: 0\n",
      "_________________________________________________________________\n"
     ]
    }
   ],
   "source": [
    "ann_model.summary()"
   ]
  },
  {
   "cell_type": "code",
   "execution_count": 31,
   "id": "22e101b9",
   "metadata": {},
   "outputs": [],
   "source": [
    "ann_model.compile(optimizer=\"adam\",loss=tensorflow.keras.losses.mean_squared_error,\n",
    "             metrics=[\"mean_squared_error\"])"
   ]
  },
  {
   "cell_type": "code",
   "execution_count": 32,
   "id": "da184340",
   "metadata": {
    "scrolled": false
   },
   "outputs": [
    {
     "name": "stdout",
     "output_type": "stream",
     "text": [
      "Epoch 1/100\n",
      "366/366 [==============================] - 2s 2ms/step - loss: 694808384.0000 - mean_squared_error: 694808384.0000\n",
      "Epoch 2/100\n",
      "366/366 [==============================] - 1s 2ms/step - loss: 694804288.0000 - mean_squared_error: 694804288.0000\n",
      "Epoch 3/100\n",
      "366/366 [==============================] - 1s 2ms/step - loss: 694786112.0000 - mean_squared_error: 694786112.0000\n",
      "Epoch 4/100\n",
      "366/366 [==============================] - 1s 2ms/step - loss: 694733888.0000 - mean_squared_error: 694733888.0000\n",
      "Epoch 5/100\n",
      "366/366 [==============================] - 1s 2ms/step - loss: 694642368.0000 - mean_squared_error: 694642368.0000\n",
      "Epoch 6/100\n",
      "366/366 [==============================] - 1s 2ms/step - loss: 694500160.0000 - mean_squared_error: 694500160.0000\n",
      "Epoch 7/100\n",
      "366/366 [==============================] - 1s 2ms/step - loss: 694279040.0000 - mean_squared_error: 694279040.0000\n",
      "Epoch 8/100\n",
      "366/366 [==============================] - 1s 3ms/step - loss: 693991104.0000 - mean_squared_error: 693991104.0000\n",
      "Epoch 9/100\n",
      "366/366 [==============================] - 1s 2ms/step - loss: 693670528.0000 - mean_squared_error: 693670528.0000\n",
      "Epoch 10/100\n",
      "366/366 [==============================] - 1s 2ms/step - loss: 693359936.0000 - mean_squared_error: 693359936.0000\n",
      "Epoch 11/100\n",
      "366/366 [==============================] - 1s 3ms/step - loss: 693059328.0000 - mean_squared_error: 693059328.0000\n",
      "Epoch 12/100\n",
      "366/366 [==============================] - 1s 2ms/step - loss: 692787200.0000 - mean_squared_error: 692787200.0000\n",
      "Epoch 13/100\n",
      "366/366 [==============================] - 1s 3ms/step - loss: 692542016.0000 - mean_squared_error: 692542016.0000\n",
      "Epoch 14/100\n",
      "366/366 [==============================] - 1s 3ms/step - loss: 692337600.0000 - mean_squared_error: 692337600.0000\n",
      "Epoch 15/100\n",
      "366/366 [==============================] - 1s 2ms/step - loss: 692174464.0000 - mean_squared_error: 692174464.0000\n",
      "Epoch 16/100\n",
      "366/366 [==============================] - 1s 2ms/step - loss: 692041920.0000 - mean_squared_error: 692041920.0000\n",
      "Epoch 17/100\n",
      "366/366 [==============================] - 1s 2ms/step - loss: 691937792.0000 - mean_squared_error: 691937792.0000\n",
      "Epoch 18/100\n",
      "366/366 [==============================] - 1s 2ms/step - loss: 691855488.0000 - mean_squared_error: 691855488.0000\n",
      "Epoch 19/100\n",
      "366/366 [==============================] - 1s 2ms/step - loss: 691789888.0000 - mean_squared_error: 691789888.0000\n",
      "Epoch 20/100\n",
      "366/366 [==============================] - 1s 2ms/step - loss: 691741184.0000 - mean_squared_error: 691741184.0000\n",
      "Epoch 21/100\n",
      "366/366 [==============================] - 1s 2ms/step - loss: 691692672.0000 - mean_squared_error: 691692672.0000\n",
      "Epoch 22/100\n",
      "366/366 [==============================] - 1s 2ms/step - loss: 691654528.0000 - mean_squared_error: 691654528.0000\n",
      "Epoch 23/100\n",
      "366/366 [==============================] - 1s 2ms/step - loss: 691619840.0000 - mean_squared_error: 691619840.0000\n",
      "Epoch 24/100\n",
      "366/366 [==============================] - 1s 2ms/step - loss: 691595776.0000 - mean_squared_error: 691595776.0000\n",
      "Epoch 25/100\n",
      "366/366 [==============================] - 1s 2ms/step - loss: 691569664.0000 - mean_squared_error: 691569664.0000\n",
      "Epoch 26/100\n",
      "366/366 [==============================] - 1s 2ms/step - loss: 691540160.0000 - mean_squared_error: 691540160.0000\n",
      "Epoch 27/100\n",
      "366/366 [==============================] - 1s 2ms/step - loss: 691514048.0000 - mean_squared_error: 691514048.0000\n",
      "Epoch 28/100\n",
      "366/366 [==============================] - 1s 2ms/step - loss: 691493888.0000 - mean_squared_error: 691493888.0000\n",
      "Epoch 29/100\n",
      "366/366 [==============================] - 1s 3ms/step - loss: 691472384.0000 - mean_squared_error: 691472384.0000\n",
      "Epoch 30/100\n",
      "366/366 [==============================] - 1s 3ms/step - loss: 691447680.0000 - mean_squared_error: 691447680.0000\n",
      "Epoch 31/100\n",
      "366/366 [==============================] - 1s 2ms/step - loss: 691415744.0000 - mean_squared_error: 691415744.0000\n",
      "Epoch 32/100\n",
      "366/366 [==============================] - 1s 2ms/step - loss: 691392192.0000 - mean_squared_error: 691392192.0000\n",
      "Epoch 33/100\n",
      "366/366 [==============================] - 1s 2ms/step - loss: 691360320.0000 - mean_squared_error: 691360320.0000\n",
      "Epoch 34/100\n",
      "366/366 [==============================] - 1s 3ms/step - loss: 691332480.0000 - mean_squared_error: 691332480.0000\n",
      "Epoch 35/100\n",
      "366/366 [==============================] - 1s 2ms/step - loss: 691297472.0000 - mean_squared_error: 691297472.0000\n",
      "Epoch 36/100\n",
      "366/366 [==============================] - 1s 2ms/step - loss: 691269184.0000 - mean_squared_error: 691269184.0000\n",
      "Epoch 37/100\n",
      "366/366 [==============================] - 1s 2ms/step - loss: 691226240.0000 - mean_squared_error: 691226240.0000\n",
      "Epoch 38/100\n",
      "366/366 [==============================] - 1s 2ms/step - loss: 691192512.0000 - mean_squared_error: 691192512.0000\n",
      "Epoch 39/100\n",
      "366/366 [==============================] - 1s 2ms/step - loss: 691147328.0000 - mean_squared_error: 691147328.0000\n",
      "Epoch 40/100\n",
      "366/366 [==============================] - 1s 2ms/step - loss: 691102592.0000 - mean_squared_error: 691102592.0000\n",
      "Epoch 41/100\n",
      "366/366 [==============================] - 1s 3ms/step - loss: 691053056.0000 - mean_squared_error: 691053056.0000\n",
      "Epoch 42/100\n",
      "366/366 [==============================] - 1s 3ms/step - loss: 690990784.0000 - mean_squared_error: 690990784.0000\n",
      "Epoch 43/100\n",
      "366/366 [==============================] - 1s 2ms/step - loss: 690960832.0000 - mean_squared_error: 690960832.0000\n",
      "Epoch 44/100\n",
      "366/366 [==============================] - 1s 2ms/step - loss: 690907712.0000 - mean_squared_error: 690907712.0000\n",
      "Epoch 45/100\n",
      "366/366 [==============================] - 1s 2ms/step - loss: 690861312.0000 - mean_squared_error: 690861312.0000\n",
      "Epoch 46/100\n",
      "366/366 [==============================] - 1s 2ms/step - loss: 690797824.0000 - mean_squared_error: 690797824.0000\n",
      "Epoch 47/100\n",
      "366/366 [==============================] - 1s 2ms/step - loss: 690744320.0000 - mean_squared_error: 690744320.0000\n",
      "Epoch 48/100\n",
      "366/366 [==============================] - 1s 3ms/step - loss: 690692096.0000 - mean_squared_error: 690692096.0000\n",
      "Epoch 49/100\n",
      "366/366 [==============================] - 1s 2ms/step - loss: 690636416.0000 - mean_squared_error: 690636416.0000\n",
      "Epoch 50/100\n",
      "366/366 [==============================] - 1s 2ms/step - loss: 690583680.0000 - mean_squared_error: 690583680.0000\n",
      "Epoch 51/100\n",
      "366/366 [==============================] - 1s 2ms/step - loss: 690555904.0000 - mean_squared_error: 690555904.0000\n",
      "Epoch 52/100\n",
      "366/366 [==============================] - 1s 3ms/step - loss: 690477184.0000 - mean_squared_error: 690477184.0000\n",
      "Epoch 53/100\n",
      "366/366 [==============================] - 1s 2ms/step - loss: 690438784.0000 - mean_squared_error: 690438784.0000\n",
      "Epoch 54/100\n",
      "366/366 [==============================] - 1s 2ms/step - loss: 690382464.0000 - mean_squared_error: 690382464.0000\n",
      "Epoch 55/100\n",
      "366/366 [==============================] - 1s 2ms/step - loss: 690330944.0000 - mean_squared_error: 690330944.0000\n",
      "Epoch 56/100\n",
      "366/366 [==============================] - 1s 2ms/step - loss: 690278016.0000 - mean_squared_error: 690278016.0000\n",
      "Epoch 57/100\n",
      "366/366 [==============================] - 1s 2ms/step - loss: 690234688.0000 - mean_squared_error: 690234688.0000\n",
      "Epoch 58/100\n",
      "366/366 [==============================] - 1s 2ms/step - loss: 690185728.0000 - mean_squared_error: 690185728.0000\n",
      "Epoch 59/100\n",
      "366/366 [==============================] - 1s 2ms/step - loss: 690138112.0000 - mean_squared_error: 690138112.0000\n",
      "Epoch 60/100\n",
      "366/366 [==============================] - 1s 2ms/step - loss: 690111296.0000 - mean_squared_error: 690111296.0000\n",
      "Epoch 61/100\n",
      "366/366 [==============================] - 1s 2ms/step - loss: 690056256.0000 - mean_squared_error: 690056256.0000\n",
      "Epoch 62/100\n",
      "366/366 [==============================] - 1s 2ms/step - loss: 690028544.0000 - mean_squared_error: 690028544.0000\n",
      "Epoch 63/100\n",
      "366/366 [==============================] - 1s 2ms/step - loss: 689991104.0000 - mean_squared_error: 689991104.0000\n",
      "Epoch 64/100\n",
      "366/366 [==============================] - 1s 3ms/step - loss: 689950464.0000 - mean_squared_error: 689950464.0000\n",
      "Epoch 65/100\n"
     ]
    },
    {
     "name": "stdout",
     "output_type": "stream",
     "text": [
      "366/366 [==============================] - 1s 3ms/step - loss: 689907264.0000 - mean_squared_error: 689907264.0000\n",
      "Epoch 66/100\n",
      "366/366 [==============================] - 1s 3ms/step - loss: 689878336.0000 - mean_squared_error: 689878336.0000\n",
      "Epoch 67/100\n",
      "366/366 [==============================] - 1s 3ms/step - loss: 689862784.0000 - mean_squared_error: 689862784.0000\n",
      "Epoch 68/100\n",
      "366/366 [==============================] - 1s 2ms/step - loss: 689822080.0000 - mean_squared_error: 689822080.0000\n",
      "Epoch 69/100\n",
      "366/366 [==============================] - 1s 2ms/step - loss: 689782784.0000 - mean_squared_error: 689782784.0000\n",
      "Epoch 70/100\n",
      "366/366 [==============================] - 1s 2ms/step - loss: 689756160.0000 - mean_squared_error: 689756160.0000\n",
      "Epoch 71/100\n",
      "366/366 [==============================] - 1s 2ms/step - loss: 689747328.0000 - mean_squared_error: 689747328.0000\n",
      "Epoch 72/100\n",
      "366/366 [==============================] - 1s 2ms/step - loss: 689678592.0000 - mean_squared_error: 689678592.0000\n",
      "Epoch 73/100\n",
      "366/366 [==============================] - 1s 2ms/step - loss: 689670976.0000 - mean_squared_error: 689670976.0000\n",
      "Epoch 74/100\n",
      "366/366 [==============================] - 1s 2ms/step - loss: 689623808.0000 - mean_squared_error: 689623808.0000\n",
      "Epoch 75/100\n",
      "366/366 [==============================] - 1s 2ms/step - loss: 689642944.0000 - mean_squared_error: 689642944.0000\n",
      "Epoch 76/100\n",
      "366/366 [==============================] - 1s 2ms/step - loss: 689603904.0000 - mean_squared_error: 689603904.0000\n",
      "Epoch 77/100\n",
      "366/366 [==============================] - 1s 2ms/step - loss: 689591744.0000 - mean_squared_error: 689591744.0000\n",
      "Epoch 78/100\n",
      "366/366 [==============================] - 1s 2ms/step - loss: 689540672.0000 - mean_squared_error: 689540672.0000\n",
      "Epoch 79/100\n",
      "366/366 [==============================] - 1s 2ms/step - loss: 689534656.0000 - mean_squared_error: 689534656.0000\n",
      "Epoch 80/100\n",
      "366/366 [==============================] - 1s 2ms/step - loss: 689516608.0000 - mean_squared_error: 689516608.0000\n",
      "Epoch 81/100\n",
      "366/366 [==============================] - 1s 2ms/step - loss: 689480256.0000 - mean_squared_error: 689480256.0000\n",
      "Epoch 82/100\n",
      "366/366 [==============================] - 1s 2ms/step - loss: 689471168.0000 - mean_squared_error: 689471168.0000\n",
      "Epoch 83/100\n",
      "366/366 [==============================] - 1s 2ms/step - loss: 689434880.0000 - mean_squared_error: 689434880.0000\n",
      "Epoch 84/100\n",
      "366/366 [==============================] - 1s 2ms/step - loss: 689392640.0000 - mean_squared_error: 689392640.0000\n",
      "Epoch 85/100\n",
      "366/366 [==============================] - 1s 2ms/step - loss: 689391872.0000 - mean_squared_error: 689391872.0000\n",
      "Epoch 86/100\n",
      "366/366 [==============================] - 1s 3ms/step - loss: 689358976.0000 - mean_squared_error: 689358976.0000\n",
      "Epoch 87/100\n",
      "366/366 [==============================] - 1s 3ms/step - loss: 689336320.0000 - mean_squared_error: 689336320.0000\n",
      "Epoch 88/100\n",
      "366/366 [==============================] - 1s 2ms/step - loss: 689315840.0000 - mean_squared_error: 689315840.0000\n",
      "Epoch 89/100\n",
      "366/366 [==============================] - 1s 2ms/step - loss: 689331904.0000 - mean_squared_error: 689331904.0000\n",
      "Epoch 90/100\n",
      "366/366 [==============================] - 1s 2ms/step - loss: 689292800.0000 - mean_squared_error: 689292800.0000\n",
      "Epoch 91/100\n",
      "366/366 [==============================] - 1s 3ms/step - loss: 689246976.0000 - mean_squared_error: 689246976.0000\n",
      "Epoch 92/100\n",
      "366/366 [==============================] - 1s 2ms/step - loss: 689233152.0000 - mean_squared_error: 689233152.0000\n",
      "Epoch 93/100\n",
      "366/366 [==============================] - 1s 2ms/step - loss: 689220224.0000 - mean_squared_error: 689220224.0000\n",
      "Epoch 94/100\n",
      "366/366 [==============================] - 1s 2ms/step - loss: 689203968.0000 - mean_squared_error: 689203968.0000\n",
      "Epoch 95/100\n",
      "366/366 [==============================] - 1s 2ms/step - loss: 689160384.0000 - mean_squared_error: 689160384.0000\n",
      "Epoch 96/100\n",
      "366/366 [==============================] - 1s 2ms/step - loss: 689161856.0000 - mean_squared_error: 689161856.0000\n",
      "Epoch 97/100\n",
      "366/366 [==============================] - 1s 2ms/step - loss: 689130944.0000 - mean_squared_error: 689130944.0000\n",
      "Epoch 98/100\n",
      "366/366 [==============================] - 1s 2ms/step - loss: 689134976.0000 - mean_squared_error: 689134976.0000\n",
      "Epoch 99/100\n",
      "366/366 [==============================] - 1s 2ms/step - loss: 689052992.0000 - mean_squared_error: 689052992.0000\n",
      "Epoch 100/100\n",
      "366/366 [==============================] - 1s 2ms/step - loss: 689083968.0000 - mean_squared_error: 689083968.0000\n"
     ]
    }
   ],
   "source": [
    "hist=ann_model.fit(x_train,y_train,epochs=100)"
   ]
  },
  {
   "cell_type": "code",
   "execution_count": 33,
   "id": "e78e522e",
   "metadata": {},
   "outputs": [
    {
     "name": "stdout",
     "output_type": "stream",
     "text": [
      "92/92 [==============================] - 0s 3ms/step\n",
      "Mean Absolute Error 3489.3371200463403\n",
      "Mean Squared Error 1117945154.0543754\n",
      "Root Mean Squared Error 33435.686833896136\n"
     ]
    }
   ],
   "source": [
    "evaluation_function(x_test,y_test,ann_model)"
   ]
  },
  {
   "cell_type": "markdown",
   "id": "4bc9011f",
   "metadata": {},
   "source": [
    "<h3>Saving the model"
   ]
  },
  {
   "cell_type": "code",
   "execution_count": 34,
   "id": "06e5cdee",
   "metadata": {},
   "outputs": [
    {
     "data": {
      "text/plain": [
       "['svr.pkl']"
      ]
     },
     "execution_count": 34,
     "metadata": {},
     "output_type": "execute_result"
    }
   ],
   "source": [
    "import joblib\n",
    "joblib.dump(svr,\"svr.pkl\")"
   ]
  },
  {
   "cell_type": "code",
   "execution_count": 35,
   "id": "574364a0",
   "metadata": {},
   "outputs": [],
   "source": [
    "ann_model.save(\"ann_youtubeadviews.h5\")"
   ]
  },
  {
   "cell_type": "markdown",
   "id": "7866b48f",
   "metadata": {},
   "source": [
    "# "
   ]
  },
  {
   "cell_type": "markdown",
   "id": "4296d46e",
   "metadata": {},
   "source": [
    "<h2> On Validation dataset"
   ]
  },
  {
   "cell_type": "code",
   "execution_count": 36,
   "id": "e18058a5",
   "metadata": {},
   "outputs": [],
   "source": [
    "val_data=pd.read_csv(\"test.csv\")"
   ]
  },
  {
   "cell_type": "code",
   "execution_count": 37,
   "id": "058a8193",
   "metadata": {
    "scrolled": false
   },
   "outputs": [
    {
     "data": {
      "text/html": [
       "<div>\n",
       "<style scoped>\n",
       "    .dataframe tbody tr th:only-of-type {\n",
       "        vertical-align: middle;\n",
       "    }\n",
       "\n",
       "    .dataframe tbody tr th {\n",
       "        vertical-align: top;\n",
       "    }\n",
       "\n",
       "    .dataframe thead th {\n",
       "        text-align: right;\n",
       "    }\n",
       "</style>\n",
       "<table border=\"1\" class=\"dataframe\">\n",
       "  <thead>\n",
       "    <tr style=\"text-align: right;\">\n",
       "      <th></th>\n",
       "      <th>vidid</th>\n",
       "      <th>views</th>\n",
       "      <th>likes</th>\n",
       "      <th>dislikes</th>\n",
       "      <th>comment</th>\n",
       "      <th>published</th>\n",
       "      <th>duration</th>\n",
       "      <th>category</th>\n",
       "    </tr>\n",
       "  </thead>\n",
       "  <tbody>\n",
       "    <tr>\n",
       "      <th>0</th>\n",
       "      <td>VID_1054</td>\n",
       "      <td>440238</td>\n",
       "      <td>6153</td>\n",
       "      <td>218</td>\n",
       "      <td>1377</td>\n",
       "      <td>2017-02-18</td>\n",
       "      <td>PT7M29S</td>\n",
       "      <td>B</td>\n",
       "    </tr>\n",
       "    <tr>\n",
       "      <th>1</th>\n",
       "      <td>VID_18629</td>\n",
       "      <td>1040132</td>\n",
       "      <td>8171</td>\n",
       "      <td>340</td>\n",
       "      <td>1047</td>\n",
       "      <td>2016-06-28</td>\n",
       "      <td>PT6M29S</td>\n",
       "      <td>F</td>\n",
       "    </tr>\n",
       "    <tr>\n",
       "      <th>2</th>\n",
       "      <td>VID_13967</td>\n",
       "      <td>28534</td>\n",
       "      <td>31</td>\n",
       "      <td>11</td>\n",
       "      <td>1</td>\n",
       "      <td>2014-03-10</td>\n",
       "      <td>PT37M54S</td>\n",
       "      <td>D</td>\n",
       "    </tr>\n",
       "    <tr>\n",
       "      <th>3</th>\n",
       "      <td>VID_19442</td>\n",
       "      <td>1316715</td>\n",
       "      <td>2284</td>\n",
       "      <td>250</td>\n",
       "      <td>274</td>\n",
       "      <td>2010-06-05</td>\n",
       "      <td>PT9M55S</td>\n",
       "      <td>G</td>\n",
       "    </tr>\n",
       "    <tr>\n",
       "      <th>4</th>\n",
       "      <td>VID_770</td>\n",
       "      <td>1893173</td>\n",
       "      <td>2519</td>\n",
       "      <td>225</td>\n",
       "      <td>116</td>\n",
       "      <td>2016-09-03</td>\n",
       "      <td>PT3M8S</td>\n",
       "      <td>B</td>\n",
       "    </tr>\n",
       "    <tr>\n",
       "      <th>...</th>\n",
       "      <td>...</td>\n",
       "      <td>...</td>\n",
       "      <td>...</td>\n",
       "      <td>...</td>\n",
       "      <td>...</td>\n",
       "      <td>...</td>\n",
       "      <td>...</td>\n",
       "      <td>...</td>\n",
       "    </tr>\n",
       "    <tr>\n",
       "      <th>8759</th>\n",
       "      <td>VID_2944</td>\n",
       "      <td>111205</td>\n",
       "      <td>471</td>\n",
       "      <td>14</td>\n",
       "      <td>101</td>\n",
       "      <td>2011-04-19</td>\n",
       "      <td>PT3M14S</td>\n",
       "      <td>C</td>\n",
       "    </tr>\n",
       "    <tr>\n",
       "      <th>8760</th>\n",
       "      <td>VID_8195</td>\n",
       "      <td>1074457</td>\n",
       "      <td>1024</td>\n",
       "      <td>195</td>\n",
       "      <td>65</td>\n",
       "      <td>2016-06-03</td>\n",
       "      <td>PT2H18M35S</td>\n",
       "      <td>D</td>\n",
       "    </tr>\n",
       "    <tr>\n",
       "      <th>8761</th>\n",
       "      <td>VID_18973</td>\n",
       "      <td>1891692</td>\n",
       "      <td>4606</td>\n",
       "      <td>1109</td>\n",
       "      <td>191</td>\n",
       "      <td>2016-06-26</td>\n",
       "      <td>PT7M14S</td>\n",
       "      <td>F</td>\n",
       "    </tr>\n",
       "    <tr>\n",
       "      <th>8762</th>\n",
       "      <td>VID_5849</td>\n",
       "      <td>714859</td>\n",
       "      <td>1639</td>\n",
       "      <td>151</td>\n",
       "      <td>382</td>\n",
       "      <td>2016-03-23</td>\n",
       "      <td>PT3M15S</td>\n",
       "      <td>D</td>\n",
       "    </tr>\n",
       "    <tr>\n",
       "      <th>8763</th>\n",
       "      <td>VID_8494</td>\n",
       "      <td>5297</td>\n",
       "      <td>12</td>\n",
       "      <td>1</td>\n",
       "      <td>0</td>\n",
       "      <td>2016-12-19</td>\n",
       "      <td>PT10M14S</td>\n",
       "      <td>D</td>\n",
       "    </tr>\n",
       "  </tbody>\n",
       "</table>\n",
       "<p>8764 rows × 8 columns</p>\n",
       "</div>"
      ],
      "text/plain": [
       "          vidid    views likes dislikes comment   published    duration  \\\n",
       "0      VID_1054   440238  6153      218    1377  2017-02-18     PT7M29S   \n",
       "1     VID_18629  1040132  8171      340    1047  2016-06-28     PT6M29S   \n",
       "2     VID_13967    28534    31       11       1  2014-03-10    PT37M54S   \n",
       "3     VID_19442  1316715  2284      250     274  2010-06-05     PT9M55S   \n",
       "4       VID_770  1893173  2519      225     116  2016-09-03      PT3M8S   \n",
       "...         ...      ...   ...      ...     ...         ...         ...   \n",
       "8759   VID_2944   111205   471       14     101  2011-04-19     PT3M14S   \n",
       "8760   VID_8195  1074457  1024      195      65  2016-06-03  PT2H18M35S   \n",
       "8761  VID_18973  1891692  4606     1109     191  2016-06-26     PT7M14S   \n",
       "8762   VID_5849   714859  1639      151     382  2016-03-23     PT3M15S   \n",
       "8763   VID_8494     5297    12        1       0  2016-12-19    PT10M14S   \n",
       "\n",
       "     category  \n",
       "0           B  \n",
       "1           F  \n",
       "2           D  \n",
       "3           G  \n",
       "4           B  \n",
       "...       ...  \n",
       "8759        C  \n",
       "8760        D  \n",
       "8761        F  \n",
       "8762        D  \n",
       "8763        D  \n",
       "\n",
       "[8764 rows x 8 columns]"
      ]
     },
     "execution_count": 37,
     "metadata": {},
     "output_type": "execute_result"
    }
   ],
   "source": [
    "val_data"
   ]
  },
  {
   "cell_type": "markdown",
   "id": "a23ba688",
   "metadata": {},
   "source": [
    "<h3>Perform Data cleaning and transformation"
   ]
  },
  {
   "cell_type": "code",
   "execution_count": 38,
   "id": "1ba49af4",
   "metadata": {},
   "outputs": [],
   "source": [
    "val_data[\"category\"]=val_data[\"category\"].map(category)"
   ]
  },
  {
   "cell_type": "code",
   "execution_count": 39,
   "id": "93439180",
   "metadata": {},
   "outputs": [],
   "source": [
    "# Removing character \"F\" present in data\n",
    "val_data=val_data[val_data.views!='F']\n",
    "val_data=val_data[val_data.likes!='F']\n",
    "val_data=val_data[val_data.dislikes!='F']\n",
    "val_data=val_data[val_data.comment!='F']\n",
    "\n",
    "# Convert values to integers for views, likes, comments, dislikes\n",
    "val_data[\"views\"] = pd.to_numeric(val_data[\"views\"])\n",
    "val_data[\"comment\"] = pd.to_numeric(val_data[\"comment\"])\n",
    "val_data[\"likes\"] = pd.to_numeric(val_data[\"likes\"])\n",
    "val_data[\"dislikes\"] = pd.to_numeric(val_data[\"dislikes\"])"
   ]
  },
  {
   "cell_type": "code",
   "execution_count": 40,
   "id": "56015674",
   "metadata": {},
   "outputs": [],
   "source": [
    "# Endoding features like Category, Duration, Vidid\n",
    "val_data['vidid']=lbl.fit_transform(val_data['vidid'])\n",
    "val_data['published']=lbl.fit_transform(val_data['published'])"
   ]
  },
  {
   "cell_type": "code",
   "execution_count": 41,
   "id": "410d7a2a",
   "metadata": {
    "scrolled": false
   },
   "outputs": [
    {
     "data": {
      "text/html": [
       "<div>\n",
       "<style scoped>\n",
       "    .dataframe tbody tr th:only-of-type {\n",
       "        vertical-align: middle;\n",
       "    }\n",
       "\n",
       "    .dataframe tbody tr th {\n",
       "        vertical-align: top;\n",
       "    }\n",
       "\n",
       "    .dataframe thead th {\n",
       "        text-align: right;\n",
       "    }\n",
       "</style>\n",
       "<table border=\"1\" class=\"dataframe\">\n",
       "  <thead>\n",
       "    <tr style=\"text-align: right;\">\n",
       "      <th></th>\n",
       "      <th>vidid</th>\n",
       "      <th>views</th>\n",
       "      <th>likes</th>\n",
       "      <th>dislikes</th>\n",
       "      <th>comment</th>\n",
       "      <th>published</th>\n",
       "      <th>duration</th>\n",
       "      <th>category</th>\n",
       "    </tr>\n",
       "  </thead>\n",
       "  <tbody>\n",
       "    <tr>\n",
       "      <th>0</th>\n",
       "      <td>231</td>\n",
       "      <td>440238</td>\n",
       "      <td>6153</td>\n",
       "      <td>218</td>\n",
       "      <td>1377</td>\n",
       "      <td>2053</td>\n",
       "      <td>449</td>\n",
       "      <td>2</td>\n",
       "    </tr>\n",
       "    <tr>\n",
       "      <th>1</th>\n",
       "      <td>3444</td>\n",
       "      <td>1040132</td>\n",
       "      <td>8171</td>\n",
       "      <td>340</td>\n",
       "      <td>1047</td>\n",
       "      <td>1825</td>\n",
       "      <td>389</td>\n",
       "      <td>6</td>\n",
       "    </tr>\n",
       "    <tr>\n",
       "      <th>2</th>\n",
       "      <td>1593</td>\n",
       "      <td>28534</td>\n",
       "      <td>31</td>\n",
       "      <td>11</td>\n",
       "      <td>1</td>\n",
       "      <td>1009</td>\n",
       "      <td>2274</td>\n",
       "      <td>4</td>\n",
       "    </tr>\n",
       "    <tr>\n",
       "      <th>3</th>\n",
       "      <td>3775</td>\n",
       "      <td>1316715</td>\n",
       "      <td>2284</td>\n",
       "      <td>250</td>\n",
       "      <td>274</td>\n",
       "      <td>116</td>\n",
       "      <td>595</td>\n",
       "      <td>7</td>\n",
       "    </tr>\n",
       "    <tr>\n",
       "      <th>4</th>\n",
       "      <td>7644</td>\n",
       "      <td>1893173</td>\n",
       "      <td>2519</td>\n",
       "      <td>225</td>\n",
       "      <td>116</td>\n",
       "      <td>1892</td>\n",
       "      <td>188</td>\n",
       "      <td>2</td>\n",
       "    </tr>\n",
       "  </tbody>\n",
       "</table>\n",
       "</div>"
      ],
      "text/plain": [
       "   vidid    views  likes  dislikes  comment  published  duration  category\n",
       "0    231   440238   6153       218     1377       2053       449         2\n",
       "1   3444  1040132   8171       340     1047       1825       389         6\n",
       "2   1593    28534     31        11        1       1009      2274         4\n",
       "3   3775  1316715   2284       250      274        116       595         7\n",
       "4   7644  1893173   2519       225      116       1892       188         2"
      ]
     },
     "execution_count": 41,
     "metadata": {},
     "output_type": "execute_result"
    }
   ],
   "source": [
    "dur = val_data[\"duration\"]\n",
    "val_time = dur.apply(checki)\n",
    "\n",
    "val_time1=val_time.apply(func_sec)\n",
    "val_data[\"duration\"]=val_time1\n",
    "val_data.head()"
   ]
  },
  {
   "cell_type": "code",
   "execution_count": 42,
   "id": "fbf5b0ab",
   "metadata": {},
   "outputs": [],
   "source": [
    "val_data.drop([\"vidid\"],axis=1, inplace=True)"
   ]
  },
  {
   "cell_type": "code",
   "execution_count": 43,
   "id": "e6487417",
   "metadata": {
    "scrolled": false
   },
   "outputs": [
    {
     "data": {
      "text/html": [
       "<div>\n",
       "<style scoped>\n",
       "    .dataframe tbody tr th:only-of-type {\n",
       "        vertical-align: middle;\n",
       "    }\n",
       "\n",
       "    .dataframe tbody tr th {\n",
       "        vertical-align: top;\n",
       "    }\n",
       "\n",
       "    .dataframe thead th {\n",
       "        text-align: right;\n",
       "    }\n",
       "</style>\n",
       "<table border=\"1\" class=\"dataframe\">\n",
       "  <thead>\n",
       "    <tr style=\"text-align: right;\">\n",
       "      <th></th>\n",
       "      <th>views</th>\n",
       "      <th>likes</th>\n",
       "      <th>dislikes</th>\n",
       "      <th>comment</th>\n",
       "      <th>published</th>\n",
       "      <th>duration</th>\n",
       "      <th>category</th>\n",
       "    </tr>\n",
       "  </thead>\n",
       "  <tbody>\n",
       "    <tr>\n",
       "      <th>0</th>\n",
       "      <td>440238</td>\n",
       "      <td>6153</td>\n",
       "      <td>218</td>\n",
       "      <td>1377</td>\n",
       "      <td>2053</td>\n",
       "      <td>449</td>\n",
       "      <td>2</td>\n",
       "    </tr>\n",
       "    <tr>\n",
       "      <th>1</th>\n",
       "      <td>1040132</td>\n",
       "      <td>8171</td>\n",
       "      <td>340</td>\n",
       "      <td>1047</td>\n",
       "      <td>1825</td>\n",
       "      <td>389</td>\n",
       "      <td>6</td>\n",
       "    </tr>\n",
       "    <tr>\n",
       "      <th>2</th>\n",
       "      <td>28534</td>\n",
       "      <td>31</td>\n",
       "      <td>11</td>\n",
       "      <td>1</td>\n",
       "      <td>1009</td>\n",
       "      <td>2274</td>\n",
       "      <td>4</td>\n",
       "    </tr>\n",
       "    <tr>\n",
       "      <th>3</th>\n",
       "      <td>1316715</td>\n",
       "      <td>2284</td>\n",
       "      <td>250</td>\n",
       "      <td>274</td>\n",
       "      <td>116</td>\n",
       "      <td>595</td>\n",
       "      <td>7</td>\n",
       "    </tr>\n",
       "    <tr>\n",
       "      <th>4</th>\n",
       "      <td>1893173</td>\n",
       "      <td>2519</td>\n",
       "      <td>225</td>\n",
       "      <td>116</td>\n",
       "      <td>1892</td>\n",
       "      <td>188</td>\n",
       "      <td>2</td>\n",
       "    </tr>\n",
       "    <tr>\n",
       "      <th>...</th>\n",
       "      <td>...</td>\n",
       "      <td>...</td>\n",
       "      <td>...</td>\n",
       "      <td>...</td>\n",
       "      <td>...</td>\n",
       "      <td>...</td>\n",
       "      <td>...</td>\n",
       "    </tr>\n",
       "    <tr>\n",
       "      <th>8759</th>\n",
       "      <td>111205</td>\n",
       "      <td>471</td>\n",
       "      <td>14</td>\n",
       "      <td>101</td>\n",
       "      <td>231</td>\n",
       "      <td>194</td>\n",
       "      <td>3</td>\n",
       "    </tr>\n",
       "    <tr>\n",
       "      <th>8760</th>\n",
       "      <td>1074457</td>\n",
       "      <td>1024</td>\n",
       "      <td>195</td>\n",
       "      <td>65</td>\n",
       "      <td>1800</td>\n",
       "      <td>8315</td>\n",
       "      <td>4</td>\n",
       "    </tr>\n",
       "    <tr>\n",
       "      <th>8761</th>\n",
       "      <td>1891692</td>\n",
       "      <td>4606</td>\n",
       "      <td>1109</td>\n",
       "      <td>191</td>\n",
       "      <td>1823</td>\n",
       "      <td>434</td>\n",
       "      <td>6</td>\n",
       "    </tr>\n",
       "    <tr>\n",
       "      <th>8762</th>\n",
       "      <td>714859</td>\n",
       "      <td>1639</td>\n",
       "      <td>151</td>\n",
       "      <td>382</td>\n",
       "      <td>1728</td>\n",
       "      <td>195</td>\n",
       "      <td>4</td>\n",
       "    </tr>\n",
       "    <tr>\n",
       "      <th>8763</th>\n",
       "      <td>5297</td>\n",
       "      <td>12</td>\n",
       "      <td>1</td>\n",
       "      <td>0</td>\n",
       "      <td>1996</td>\n",
       "      <td>614</td>\n",
       "      <td>4</td>\n",
       "    </tr>\n",
       "  </tbody>\n",
       "</table>\n",
       "<p>8549 rows × 7 columns</p>\n",
       "</div>"
      ],
      "text/plain": [
       "        views  likes  dislikes  comment  published  duration  category\n",
       "0      440238   6153       218     1377       2053       449         2\n",
       "1     1040132   8171       340     1047       1825       389         6\n",
       "2       28534     31        11        1       1009      2274         4\n",
       "3     1316715   2284       250      274        116       595         7\n",
       "4     1893173   2519       225      116       1892       188         2\n",
       "...       ...    ...       ...      ...        ...       ...       ...\n",
       "8759   111205    471        14      101        231       194         3\n",
       "8760  1074457   1024       195       65       1800      8315         4\n",
       "8761  1891692   4606      1109      191       1823       434         6\n",
       "8762   714859   1639       151      382       1728       195         4\n",
       "8763     5297     12         1        0       1996       614         4\n",
       "\n",
       "[8549 rows x 7 columns]"
      ]
     },
     "execution_count": 43,
     "metadata": {},
     "output_type": "execute_result"
    }
   ],
   "source": [
    "val_data"
   ]
  },
  {
   "cell_type": "markdown",
   "id": "5daee3fc",
   "metadata": {},
   "source": [
    "<h3>Scale the data"
   ]
  },
  {
   "cell_type": "code",
   "execution_count": 44,
   "id": "5f2bcca1",
   "metadata": {},
   "outputs": [],
   "source": [
    "scl_val_data=scalar.transform(val_data)"
   ]
  },
  {
   "cell_type": "code",
   "execution_count": 45,
   "id": "3a0fa4e0",
   "metadata": {},
   "outputs": [
    {
     "data": {
      "text/plain": [
       "(8549, 7)"
      ]
     },
     "execution_count": 45,
     "metadata": {},
     "output_type": "execute_result"
    }
   ],
   "source": [
    "scl_val_data.shape"
   ]
  },
  {
   "cell_type": "markdown",
   "id": "018f3ce6",
   "metadata": {},
   "source": [
    "<h3>Load the model"
   ]
  },
  {
   "cell_type": "code",
   "execution_count": 46,
   "id": "47d07680",
   "metadata": {},
   "outputs": [],
   "source": [
    "loaded_model = joblib.load(\"svr.pkl\")"
   ]
  },
  {
   "cell_type": "markdown",
   "id": "bdf9191b",
   "metadata": {},
   "source": [
    "<h5>predict the unseen data using saved model"
   ]
  },
  {
   "cell_type": "code",
   "execution_count": 47,
   "id": "32145878",
   "metadata": {},
   "outputs": [
    {
     "data": {
      "text/plain": [
       "array([2.42607281, 2.20311576, 2.33266616, ..., 2.54445658, 1.83862164,\n",
       "       1.52716996])"
      ]
     },
     "execution_count": 47,
     "metadata": {},
     "output_type": "execute_result"
    }
   ],
   "source": [
    "loaded_model.predict(scl_val_data)"
   ]
  }
 ],
 "metadata": {
  "kernelspec": {
   "display_name": "Python 3 (ipykernel)",
   "language": "python",
   "name": "python3"
  },
  "language_info": {
   "codemirror_mode": {
    "name": "ipython",
    "version": 3
   },
   "file_extension": ".py",
   "mimetype": "text/x-python",
   "name": "python",
   "nbconvert_exporter": "python",
   "pygments_lexer": "ipython3",
   "version": "3.10.9"
  }
 },
 "nbformat": 4,
 "nbformat_minor": 5
}
